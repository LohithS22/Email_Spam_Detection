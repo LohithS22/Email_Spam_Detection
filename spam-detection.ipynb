{
 "cells": [
  {
   "cell_type": "code",
   "execution_count": 26,
   "metadata": {},
   "outputs": [
    {
     "name": "stdout",
     "output_type": "stream",
     "text": [
      "Dataset loaded successfully.\n"
     ]
    },
    {
     "data": {
      "text/html": [
       "<div>\n",
       "<style scoped>\n",
       "    .dataframe tbody tr th:only-of-type {\n",
       "        vertical-align: middle;\n",
       "    }\n",
       "\n",
       "    .dataframe tbody tr th {\n",
       "        vertical-align: top;\n",
       "    }\n",
       "\n",
       "    .dataframe thead th {\n",
       "        text-align: right;\n",
       "    }\n",
       "</style>\n",
       "<table border=\"1\" class=\"dataframe\">\n",
       "  <thead>\n",
       "    <tr style=\"text-align: right;\">\n",
       "      <th></th>\n",
       "      <th>Unnamed: 0</th>\n",
       "      <th>label</th>\n",
       "      <th>text</th>\n",
       "      <th>label_num</th>\n",
       "    </tr>\n",
       "  </thead>\n",
       "  <tbody>\n",
       "    <tr>\n",
       "      <th>0</th>\n",
       "      <td>605</td>\n",
       "      <td>ham</td>\n",
       "      <td>Subject: enron methanol ; meter # : 988291\\r\\n...</td>\n",
       "      <td>0</td>\n",
       "    </tr>\n",
       "    <tr>\n",
       "      <th>1</th>\n",
       "      <td>2349</td>\n",
       "      <td>ham</td>\n",
       "      <td>Subject: hpl nom for january 9 , 2001\\r\\n( see...</td>\n",
       "      <td>0</td>\n",
       "    </tr>\n",
       "    <tr>\n",
       "      <th>2</th>\n",
       "      <td>3624</td>\n",
       "      <td>ham</td>\n",
       "      <td>Subject: neon retreat\\r\\nho ho ho , we ' re ar...</td>\n",
       "      <td>0</td>\n",
       "    </tr>\n",
       "    <tr>\n",
       "      <th>3</th>\n",
       "      <td>4685</td>\n",
       "      <td>spam</td>\n",
       "      <td>Subject: photoshop , windows , office . cheap ...</td>\n",
       "      <td>1</td>\n",
       "    </tr>\n",
       "    <tr>\n",
       "      <th>4</th>\n",
       "      <td>2030</td>\n",
       "      <td>ham</td>\n",
       "      <td>Subject: re : indian springs\\r\\nthis deal is t...</td>\n",
       "      <td>0</td>\n",
       "    </tr>\n",
       "  </tbody>\n",
       "</table>\n",
       "</div>"
      ],
      "text/plain": [
       "   Unnamed: 0 label                                               text  \\\n",
       "0         605   ham  Subject: enron methanol ; meter # : 988291\\r\\n...   \n",
       "1        2349   ham  Subject: hpl nom for january 9 , 2001\\r\\n( see...   \n",
       "2        3624   ham  Subject: neon retreat\\r\\nho ho ho , we ' re ar...   \n",
       "3        4685  spam  Subject: photoshop , windows , office . cheap ...   \n",
       "4        2030   ham  Subject: re : indian springs\\r\\nthis deal is t...   \n",
       "\n",
       "   label_num  \n",
       "0          0  \n",
       "1          0  \n",
       "2          0  \n",
       "3          1  \n",
       "4          0  "
      ]
     },
     "execution_count": 26,
     "metadata": {},
     "output_type": "execute_result"
    }
   ],
   "source": [
    "import numpy as np\n",
    "import pandas as pd\n",
    "import os\n",
    "import spacy\n",
    "import string\n",
    "import re\n",
    "from sklearn.model_selection import train_test_split\n",
    "from sklearn.feature_extraction.text import CountVectorizer\n",
    "import joblib\n",
    "\n",
    "# Load dataset\n",
    "file_path = r\"C:\\Users\\91805\\Desktop\\ML\\input\\spam_ham_dataset.csv\"\n",
    "df = pd.read_csv(file_path)\n",
    "print(\"Dataset loaded successfully.\")\n",
    "df.head()\n"
   ]
  },
  {
   "cell_type": "code",
   "execution_count": 27,
   "metadata": {},
   "outputs": [
    {
     "data": {
      "text/html": [
       "<div>\n",
       "<style scoped>\n",
       "    .dataframe tbody tr th:only-of-type {\n",
       "        vertical-align: middle;\n",
       "    }\n",
       "\n",
       "    .dataframe tbody tr th {\n",
       "        vertical-align: top;\n",
       "    }\n",
       "\n",
       "    .dataframe thead th {\n",
       "        text-align: right;\n",
       "    }\n",
       "</style>\n",
       "<table border=\"1\" class=\"dataframe\">\n",
       "  <thead>\n",
       "    <tr style=\"text-align: right;\">\n",
       "      <th></th>\n",
       "      <th>Unnamed: 0</th>\n",
       "      <th>label</th>\n",
       "      <th>text</th>\n",
       "      <th>label_num</th>\n",
       "    </tr>\n",
       "  </thead>\n",
       "  <tbody>\n",
       "    <tr>\n",
       "      <th>0</th>\n",
       "      <td>605</td>\n",
       "      <td>0</td>\n",
       "      <td>enron methanol ; meter # : 988291\\r\\nthis is ...</td>\n",
       "      <td>0</td>\n",
       "    </tr>\n",
       "    <tr>\n",
       "      <th>1</th>\n",
       "      <td>2349</td>\n",
       "      <td>0</td>\n",
       "      <td>hpl nom for january 9 , 2001\\r\\n( see attache...</td>\n",
       "      <td>0</td>\n",
       "    </tr>\n",
       "    <tr>\n",
       "      <th>2</th>\n",
       "      <td>3624</td>\n",
       "      <td>0</td>\n",
       "      <td>neon retreat\\r\\nho ho ho , we ' re around to ...</td>\n",
       "      <td>0</td>\n",
       "    </tr>\n",
       "    <tr>\n",
       "      <th>3</th>\n",
       "      <td>4685</td>\n",
       "      <td>1</td>\n",
       "      <td>photoshop , windows , office . cheap . main t...</td>\n",
       "      <td>1</td>\n",
       "    </tr>\n",
       "    <tr>\n",
       "      <th>4</th>\n",
       "      <td>2030</td>\n",
       "      <td>0</td>\n",
       "      <td>re : indian springs\\r\\nthis deal is to book t...</td>\n",
       "      <td>0</td>\n",
       "    </tr>\n",
       "  </tbody>\n",
       "</table>\n",
       "</div>"
      ],
      "text/plain": [
       "   Unnamed: 0 label                                               text  \\\n",
       "0         605     0   enron methanol ; meter # : 988291\\r\\nthis is ...   \n",
       "1        2349     0   hpl nom for january 9 , 2001\\r\\n( see attache...   \n",
       "2        3624     0   neon retreat\\r\\nho ho ho , we ' re around to ...   \n",
       "3        4685     1   photoshop , windows , office . cheap . main t...   \n",
       "4        2030     0   re : indian springs\\r\\nthis deal is to book t...   \n",
       "\n",
       "   label_num  \n",
       "0          0  \n",
       "1          0  \n",
       "2          0  \n",
       "3          1  \n",
       "4          0  "
      ]
     },
     "execution_count": 27,
     "metadata": {},
     "output_type": "execute_result"
    }
   ],
   "source": [
    "# Remove 'Subject:' prefix and map labels to binary values\n",
    "df[\"text\"] = df[\"text\"].str.replace(\"Subject:\", \"\")\n",
    "df.loc[df[\"label\"] == \"ham\", \"label\"] = 0\n",
    "df.loc[df[\"label\"] == \"spam\", \"label\"] = 1\n",
    "df.head()\n"
   ]
  },
  {
   "cell_type": "code",
   "execution_count": 29,
   "metadata": {},
   "outputs": [
    {
     "data": {
      "text/html": [
       "<div>\n",
       "<style scoped>\n",
       "    .dataframe tbody tr th:only-of-type {\n",
       "        vertical-align: middle;\n",
       "    }\n",
       "\n",
       "    .dataframe tbody tr th {\n",
       "        vertical-align: top;\n",
       "    }\n",
       "\n",
       "    .dataframe thead th {\n",
       "        text-align: right;\n",
       "    }\n",
       "</style>\n",
       "<table border=\"1\" class=\"dataframe\">\n",
       "  <thead>\n",
       "    <tr style=\"text-align: right;\">\n",
       "      <th></th>\n",
       "      <th>Unnamed: 0</th>\n",
       "      <th>label</th>\n",
       "      <th>text</th>\n",
       "      <th>label_num</th>\n",
       "      <th>subject</th>\n",
       "    </tr>\n",
       "  </thead>\n",
       "  <tbody>\n",
       "    <tr>\n",
       "      <th>0</th>\n",
       "      <td>605</td>\n",
       "      <td>0</td>\n",
       "      <td>\\r\\nthis is a follow up to the note i gave you...</td>\n",
       "      <td>0</td>\n",
       "      <td></td>\n",
       "    </tr>\n",
       "    <tr>\n",
       "      <th>1</th>\n",
       "      <td>2349</td>\n",
       "      <td>0</td>\n",
       "      <td>\\r\\n( see attached file : hplnol 09 . xls )\\r\\...</td>\n",
       "      <td>0</td>\n",
       "      <td></td>\n",
       "    </tr>\n",
       "    <tr>\n",
       "      <th>2</th>\n",
       "      <td>3624</td>\n",
       "      <td>0</td>\n",
       "      <td>\\r\\nho ho ho , we ' re around to that most won...</td>\n",
       "      <td>0</td>\n",
       "      <td></td>\n",
       "    </tr>\n",
       "    <tr>\n",
       "      <th>3</th>\n",
       "      <td>4685</td>\n",
       "      <td>1</td>\n",
       "      <td>\\r\\nabasements darer prudently fortuitous unde...</td>\n",
       "      <td>1</td>\n",
       "      <td></td>\n",
       "    </tr>\n",
       "    <tr>\n",
       "      <th>4</th>\n",
       "      <td>2030</td>\n",
       "      <td>0</td>\n",
       "      <td>\\r\\nthis deal is to book the teco pvr revenue ...</td>\n",
       "      <td>0</td>\n",
       "      <td></td>\n",
       "    </tr>\n",
       "  </tbody>\n",
       "</table>\n",
       "</div>"
      ],
      "text/plain": [
       "   Unnamed: 0 label                                               text  \\\n",
       "0         605     0  \\r\\nthis is a follow up to the note i gave you...   \n",
       "1        2349     0  \\r\\n( see attached file : hplnol 09 . xls )\\r\\...   \n",
       "2        3624     0  \\r\\nho ho ho , we ' re around to that most won...   \n",
       "3        4685     1  \\r\\nabasements darer prudently fortuitous unde...   \n",
       "4        2030     0  \\r\\nthis deal is to book the teco pvr revenue ...   \n",
       "\n",
       "   label_num subject  \n",
       "0          0          \n",
       "1          0          \n",
       "2          0          \n",
       "3          1          \n",
       "4          0          "
      ]
     },
     "execution_count": 29,
     "metadata": {},
     "output_type": "execute_result"
    }
   ],
   "source": [
    "email_subjects = []\n",
    "email_text = []\n",
    "\n",
    "def split_subject(text):\n",
    "    subject = \"\"\n",
    "    for ch in text:\n",
    "        if ch == '\\r':\n",
    "            break\n",
    "        subject += ch\n",
    "    email_subjects.append(subject)\n",
    "    email_text.append(text.replace(subject, \"\"))\n",
    "\n",
    "df[\"text\"].apply(split_subject)\n",
    "df[\"subject\"] = email_subjects\n",
    "df[\"text\"] = email_text\n",
    "df.head()\n"
   ]
  },
  {
   "cell_type": "code",
   "execution_count": 30,
   "metadata": {},
   "outputs": [],
   "source": [
    "nlp = spacy.load(\"en_core_web_sm\")\n",
    "\n",
    "def clean_text(s): \n",
    "    return ''.join([cs if cs in string.ascii_letters else ' ' for cs in s]).rstrip()\n",
    "\n",
    "def remove_little(s): \n",
    "    return ' '.join([word for word in s.split() if len(word) > 2])\n",
    "\n",
    "def lemmatize_text(text):\n",
    "    doc = nlp(text)\n",
    "    return \" \".join([token.lemma_ for token in doc])\n"
   ]
  },
  {
   "cell_type": "code",
   "execution_count": 31,
   "metadata": {},
   "outputs": [
    {
     "data": {
      "text/html": [
       "<div>\n",
       "<style scoped>\n",
       "    .dataframe tbody tr th:only-of-type {\n",
       "        vertical-align: middle;\n",
       "    }\n",
       "\n",
       "    .dataframe tbody tr th {\n",
       "        vertical-align: top;\n",
       "    }\n",
       "\n",
       "    .dataframe thead th {\n",
       "        text-align: right;\n",
       "    }\n",
       "</style>\n",
       "<table border=\"1\" class=\"dataframe\">\n",
       "  <thead>\n",
       "    <tr style=\"text-align: right;\">\n",
       "      <th></th>\n",
       "      <th>Unnamed: 0</th>\n",
       "      <th>label</th>\n",
       "      <th>text</th>\n",
       "      <th>label_num</th>\n",
       "      <th>subject</th>\n",
       "    </tr>\n",
       "  </thead>\n",
       "  <tbody>\n",
       "    <tr>\n",
       "      <th>0</th>\n",
       "      <td>605</td>\n",
       "      <td>0</td>\n",
       "      <td>this follow the note give you monday prelimina...</td>\n",
       "      <td>0</td>\n",
       "      <td></td>\n",
       "    </tr>\n",
       "    <tr>\n",
       "      <th>1</th>\n",
       "      <td>2349</td>\n",
       "      <td>0</td>\n",
       "      <td>see attached file hplnol xls hplnol xls</td>\n",
       "      <td>0</td>\n",
       "      <td></td>\n",
       "    </tr>\n",
       "    <tr>\n",
       "      <th>2</th>\n",
       "      <td>3624</td>\n",
       "      <td>0</td>\n",
       "      <td>around that most wonderful time the year neon ...</td>\n",
       "      <td>0</td>\n",
       "      <td></td>\n",
       "    </tr>\n",
       "    <tr>\n",
       "      <th>3</th>\n",
       "      <td>4685</td>\n",
       "      <td>1</td>\n",
       "      <td>abasement darer prudently fortuitous undergone...</td>\n",
       "      <td>1</td>\n",
       "      <td></td>\n",
       "    </tr>\n",
       "    <tr>\n",
       "      <th>4</th>\n",
       "      <td>2030</td>\n",
       "      <td>0</td>\n",
       "      <td>this deal book the teco pvr revenue understand...</td>\n",
       "      <td>0</td>\n",
       "      <td></td>\n",
       "    </tr>\n",
       "  </tbody>\n",
       "</table>\n",
       "</div>"
      ],
      "text/plain": [
       "   Unnamed: 0 label                                               text  \\\n",
       "0         605     0  this follow the note give you monday prelimina...   \n",
       "1        2349     0            see attached file hplnol xls hplnol xls   \n",
       "2        3624     0  around that most wonderful time the year neon ...   \n",
       "3        4685     1  abasement darer prudently fortuitous undergone...   \n",
       "4        2030     0  this deal book the teco pvr revenue understand...   \n",
       "\n",
       "   label_num subject  \n",
       "0          0          \n",
       "1          0          \n",
       "2          0          \n",
       "3          1          \n",
       "4          0          "
      ]
     },
     "execution_count": 31,
     "metadata": {},
     "output_type": "execute_result"
    }
   ],
   "source": [
    "df['text'] = df['text'].apply(lambda x: lemmatize_text(remove_little(clean_text(x))))\n",
    "df['subject'] = df['subject'].apply(lambda x: lemmatize_text(remove_little(clean_text(x))))\n",
    "df.head()"
   ]
  },
  {
   "cell_type": "code",
   "execution_count": 33,
   "metadata": {},
   "outputs": [],
   "source": [
    "class CustomMultinomialNB:\n",
    "    def __init__(self):\n",
    "        self.class_log_prior_ = None\n",
    "        self.feature_log_prob_ = None\n",
    "        self.classes_ = None\n",
    "        self.feature_count_ = None\n",
    "        self.class_count_ = None\n",
    "\n",
    "    def fit(self, X, y):\n",
    "        self.classes_ = np.unique(y)\n",
    "        self.class_count_ = np.zeros(len(self.classes_))\n",
    "        self.feature_count_ = np.zeros((len(self.classes_), X.shape[1]))\n",
    "        \n",
    "        for idx, cls in enumerate(self.classes_):\n",
    "            X_class = X[y == cls]\n",
    "            self.class_count_[idx] = X_class.shape[0]\n",
    "            self.feature_count_[idx, :] = X_class.sum(axis=0)\n",
    "        \n",
    "        self.class_log_prior_ = np.log(self.class_count_ / y.shape[0])\n",
    "        smoothed_fc = self.feature_count_ + 1  \n",
    "        smoothed_cc = smoothed_fc.sum(axis=1).reshape(-1, 1)\n",
    "        self.feature_log_prob_ = np.log(smoothed_fc) - np.log(smoothed_cc)\n",
    "        \n",
    "    def predict(self, X):\n",
    "        jll = X @ self.feature_log_prob_.T + self.class_log_prior_\n",
    "        return self.classes_[np.argmax(jll, axis=1)]\n"
   ]
  },
  {
   "cell_type": "code",
   "execution_count": 34,
   "metadata": {},
   "outputs": [],
   "source": [
    "# Convert labels to integer type\n",
    "df['label'] = df['label'].astype(int)\n",
    "\n",
    "# Split the dataset\n",
    "X_train, X_test, y_train, y_test = train_test_split(df['text'], df['label'], test_size=0.2, random_state=42)\n",
    "\n",
    "# Vectorize the text data\n",
    "vectorizer = CountVectorizer()\n",
    "X_train_counts = vectorizer.fit_transform(X_train)\n",
    "X_test_counts = vectorizer.transform(X_test)\n"
   ]
  },
  {
   "cell_type": "code",
   "execution_count": 35,
   "metadata": {},
   "outputs": [
    {
     "name": "stdout",
     "output_type": "stream",
     "text": [
      "Model trained successfully.\n"
     ]
    }
   ],
   "source": [
    "spam_detector = CustomMultinomialNB()\n",
    "spam_detector.fit(X_train_counts.toarray(), y_train)\n",
    "print(\"Model trained successfully.\")\n"
   ]
  },
  {
   "cell_type": "code",
   "execution_count": 36,
   "metadata": {},
   "outputs": [
    {
     "name": "stdout",
     "output_type": "stream",
     "text": [
      "Model Accuracy: 0.96\n"
     ]
    }
   ],
   "source": [
    "y_pred = spam_detector.predict(X_test_counts.toarray())\n",
    "\n",
    "accuracy = np.mean(y_pred == y_test)\n",
    "print(f\"Model Accuracy: {accuracy:.2f}\")\n"
   ]
  },
  {
   "cell_type": "code",
   "execution_count": 37,
   "metadata": {},
   "outputs": [
    {
     "name": "stdout",
     "output_type": "stream",
     "text": [
      "Model and vectorizer saved.\n"
     ]
    }
   ],
   "source": [
    "#Saving model\n",
    "joblib.dump(spam_detector, 'spam_detection_model.pkl')\n",
    "joblib.dump(vectorizer, 'count_vectorizer.pkl')\n",
    "print(\"Model and vectorizer saved.\")\n"
   ]
  },
  {
   "cell_type": "code",
   "execution_count": 65,
   "metadata": {},
   "outputs": [
    {
     "name": "stdout",
     "output_type": "stream",
     "text": [
      "Prediction: Spam\n"
     ]
    }
   ],
   "source": [
    "input_email = input(\"Write the email to check: \")\n",
    "processed_input = lemmatize_text(remove_little(clean_text(input_email)))\n",
    "input_vector = vectorizer.transform([processed_input])\n",
    "\n",
    "prediction = spam_detector.predict(input_vector.toarray())\n",
    "print(\"Prediction:\", \"Spam\" if prediction == 1 else \"Ham\")"
   ]
  },
  {
   "cell_type": "code",
   "execution_count": null,
   "metadata": {},
   "outputs": [],
   "source": [
    "\"\"\"Spam email examples to test::\n",
    "Claim your prize now by clicking this link! Act fast, this is a limited-time offer!\n",
    "Start earning big with no experience required. Click here to find out more.\n",
    "We have pre-approved you for a personal loan up to $10,000! Just provide your details to get started.\n",
    "Order now and get up to 80% off on all your medication needs. Limited stock available.\n",
    "Lose weight quickly with our new natural supplements. Get your free trial today!\n",
    "Discover the best investment opportunity with guaranteed returns. Dont miss out!\n",
    "Enjoy a luxury cruise on us. Click here to claim your free tickets!\n",
    "Limited time offer! Get premium watches at a fraction of the price. Shop now!\"\"\"\n",
    "\n",
    "\"\"\"Ham email examples to test::\n",
    "Please verify your account immediately to prevent suspension. Click here to verify.\n",
    "Please join us for the weekly team meeting at 10 AM on Monday. Agenda will be shared soon.\n",
    "Hi Team, just a quick update on the project progress. We are on track and on schedule.\n",
    "Were happy to inform you that your order has been shipped. Track your package for updates.\n",
    "Please find attached the invoice for services rendered in August. Let us know if you have any questions.\n",
    "Dont forget, our book club meets this Friday at 6 PM. Looking forward to seeing everyone!\n",
    "Thank you for your purchase! Your order has been confirmed. Expect delivery soon.\n",
    "Are we still on for dinner this Saturday? Let me know if anything has changed.\"\"\""
   ]
  }
 ],
 "metadata": {
  "kernelspec": {
   "display_name": "Python 3",
   "language": "python",
   "name": "python3"
  },
  "language_info": {
   "codemirror_mode": {
    "name": "ipython",
    "version": 3
   },
   "file_extension": ".py",
   "mimetype": "text/x-python",
   "name": "python",
   "nbconvert_exporter": "python",
   "pygments_lexer": "ipython3",
   "version": "3.12.2"
  }
 },
 "nbformat": 4,
 "nbformat_minor": 2
}
